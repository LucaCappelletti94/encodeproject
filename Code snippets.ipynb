{
 "cells": [
  {
   "cell_type": "code",
   "execution_count": 1,
   "metadata": {},
   "outputs": [],
   "source": [
    "from encodeproject import biosample, experiment, accessions, download_urls\n",
    "from typing import List, Dict\n",
    "from pprint import pprint\n",
    "import pandas as pd\n",
    "from tqdm.auto import tqdm\n",
    "from time import sleep"
   ]
  },
  {
   "cell_type": "code",
   "execution_count": 2,
   "metadata": {},
   "outputs": [],
   "source": [
    "df = pd.read_csv(\"data.tab\", sep=\"\\t\", index_col=\"Feature\")"
   ]
  },
  {
   "cell_type": "code",
   "execution_count": null,
   "metadata": {},
   "outputs": [
    {
     "data": {
      "application/vnd.jupyter.widget-view+json": {
       "model_id": "3f94129ec1584015bd728ff5e94b0b25",
       "version_major": 2,
       "version_minor": 0
      },
      "text/plain": [
       "HBox(children=(IntProgress(value=0, max=194), HTML(value='')))"
      ]
     },
     "metadata": {},
     "output_type": "display_data"
    }
   ],
   "source": [
    "urls = {}\n",
    "for target, series in tqdm(df.iterrows(), total=df.shape[0]):\n",
    "    target = target.split(\"(\")[0]\n",
    "    for cell_line, value in series.iteritems():\n",
    "        if value:\n",
    "            codes = accessions(experiment(\n",
    "                assembly=\"hg19\",\n",
    "                cell_line=cell_line,\n",
    "                target=target\n",
    "            ))\n",
    "            for code in codes:\n",
    "                sleep(0.5)\n",
    "                sample = biosample(\n",
    "                    accession=code,\n",
    "                    file_format=\"bigwig\",\n",
    "                    output_type=\"fold change over control\",\n",
    "                    assembly=\"hg19\",\n",
    "                    biological_replicates=[1, 2]\n",
    "                )\n",
    "                urls[(cell_line, target)] = download_urls(sample)"
   ]
  },
  {
   "cell_type": "code",
   "execution_count": null,
   "metadata": {},
   "outputs": [],
   "source": []
  }
 ],
 "metadata": {
  "kernelspec": {
   "display_name": "Python 3",
   "language": "python",
   "name": "python3"
  },
  "language_info": {
   "codemirror_mode": {
    "name": "ipython",
    "version": 3
   },
   "file_extension": ".py",
   "mimetype": "text/x-python",
   "name": "python",
   "nbconvert_exporter": "python",
   "pygments_lexer": "ipython3",
   "version": "3.7.3"
  }
 },
 "nbformat": 4,
 "nbformat_minor": 2
}
